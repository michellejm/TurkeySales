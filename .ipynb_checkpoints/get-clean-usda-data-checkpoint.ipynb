{
 "cells": [
  {
   "cell_type": "code",
   "execution_count": null,
   "metadata": {},
   "outputs": [],
   "source": [
    "import pandas as pd\n",
    "import numpy as np\n",
    "import requests\n",
    "import time\n",
    "pd.set_option('display.max_columns', 500)"
   ]
  },
  {
   "cell_type": "code",
   "execution_count": null,
   "metadata": {},
   "outputs": [],
   "source": [
    "my_key = open(\"usda_api_key.txt\", \"r\").read()\n",
    "endpoint = \"https://quickstats.nass.usda.gov/api/api_GET/\""
   ]
  },
  {
   "cell_type": "code",
   "execution_count": null,
   "metadata": {},
   "outputs": [],
   "source": [
    "my_states = [\"AL\",\"AK\",\"AZ\",\"AR\",\"AS\",\"CA\",\"CO\",\"CT\",\"DE\",\"DC\",\"FL\",\"GA\",\"GU\",\n",
    "          \"HI\",\"ID\",\"IL\",\"IN\",\"IA\",\"KS\",\"KY\",\"LA\",\"ME\",\"MD\",\"MA\",\"MI\",\"MN\",\n",
    "          \"MS\",\"MO\",\"MT\",\"NE\",\"NV\",\"NH\",\"NJ\",\"NM\",\"NY\",\"NC\",\"ND\",\"MP\",\"OH\",\n",
    "          \"OK\",\"OR\",\"PA\",\"PR\",\"RI\",\"SC\",\"SD\",\"TN\",\"TX\",\"TT\",\"UT\",\"VT\",\"VA\",\n",
    "          \"VI\",\"WA\",\"WV\",\"WI\",\"WY\"]\n",
    "def get_usda_data(my_sector, my_group, my_key, my_states, start_year, end_year):\n",
    "    response_list = []\n",
    "    for s in my_states:\n",
    "        for y in range(start_year,end_year):\n",
    "            my_params = {\"key\":my_key, \"sector\":my_sector, \"group\":my_group, \"state_alpha\":s, \"year\":y}\n",
    "            my_response = requests.get(endpoint, params = my_params).json()\n",
    "            if list(my_response.keys())[0] ==\"data\":\n",
    "                d = pd.json_normalize(my_response, \"data\")\n",
    "            else:\n",
    "                d = pd.json_normalize(my_response)\n",
    "            response_list.append(d)\n",
    "            t = np.random.randint(50)\n",
    "            time.sleep(t)\n",
    "    return response_list\n",
    "\n",
    "response_list = get_usda_data(\"CROPS\",\"VEGETABLES\",my_key,my_states,2010,2023)"
   ]
  },
  {
   "cell_type": "code",
   "execution_count": null,
   "metadata": {},
   "outputs": [],
   "source": [
    "df_veg = pd.concat(response_list, ignore_index=True)\n",
    "df_veg.info()"
   ]
  },
  {
   "cell_type": "code",
   "execution_count": null,
   "metadata": {},
   "outputs": [],
   "source": [
    "df.head()"
   ]
  },
  {
   "cell_type": "code",
   "execution_count": null,
   "metadata": {},
   "outputs": [],
   "source": [
    "compression_opts = dict(method='zip', archive_name='vegetables.csv')  \n",
    "\n",
    "df_veg.to_csv('vegetables.zip', index=False,compression=compression_opts)"
   ]
  },
  {
   "cell_type": "code",
   "execution_count": null,
   "metadata": {},
   "outputs": [],
   "source": []
  }
 ],
 "metadata": {
  "kernelspec": {
   "display_name": "Python 3",
   "language": "python",
   "name": "python3"
  },
  "language_info": {
   "codemirror_mode": {
    "name": "ipython",
    "version": 3
   },
   "file_extension": ".py",
   "mimetype": "text/x-python",
   "name": "python",
   "nbconvert_exporter": "python",
   "pygments_lexer": "ipython3",
   "version": "3.7.6"
  }
 },
 "nbformat": 4,
 "nbformat_minor": 4
}
